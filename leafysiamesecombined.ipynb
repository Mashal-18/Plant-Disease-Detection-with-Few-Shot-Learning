{
 "cells": [
  {
   "cell_type": "code",
   "execution_count": 1,
   "id": "49ebfb07",
   "metadata": {
    "_cell_guid": "b1076dfc-b9ad-4769-8c92-a6c4dae69d19",
    "_uuid": "8f2839f25d086af736a60e9eeb907d3b93b6e0e5",
    "execution": {
     "iopub.execute_input": "2024-09-06T14:30:45.642539Z",
     "iopub.status.busy": "2024-09-06T14:30:45.641723Z",
     "iopub.status.idle": "2024-09-06T14:30:52.080181Z",
     "shell.execute_reply": "2024-09-06T14:30:52.079207Z"
    },
    "papermill": {
     "duration": 6.447807,
     "end_time": "2024-09-06T14:30:52.082764",
     "exception": false,
     "start_time": "2024-09-06T14:30:45.634957",
     "status": "completed"
    },
    "tags": []
   },
   "outputs": [
    {
     "name": "stderr",
     "output_type": "stream",
     "text": [
      "/opt/conda/lib/python3.10/site-packages/scipy/__init__.py:146: UserWarning: A NumPy version >=1.16.5 and <1.23.0 is required for this version of SciPy (detected version 1.24.3\n",
      "  warnings.warn(f\"A NumPy version >={np_minversion} and <{np_maxversion}\"\n"
     ]
    }
   ],
   "source": [
    "import numpy as np\n",
    "import pandas as pd\n",
    "import os\n",
    "from tqdm import tqdm\n",
    "import pickle\n",
    "import albumentations as A\n",
    "import torch\n",
    "from torch.utils.data import Dataset, DataLoader\n",
    "import torchvision\n",
    "import cv2\n",
    "import random"
   ]
  },
  {
   "cell_type": "code",
   "execution_count": 2,
   "id": "0b463ab7",
   "metadata": {
    "execution": {
     "iopub.execute_input": "2024-09-06T14:30:52.094565Z",
     "iopub.status.busy": "2024-09-06T14:30:52.093913Z",
     "iopub.status.idle": "2024-09-06T14:30:52.119195Z",
     "shell.execute_reply": "2024-09-06T14:30:52.118380Z"
    },
    "papermill": {
     "duration": 0.033087,
     "end_time": "2024-09-06T14:30:52.121189",
     "exception": false,
     "start_time": "2024-09-06T14:30:52.088102",
     "status": "completed"
    },
    "tags": []
   },
   "outputs": [],
   "source": [
    "def generate_triplets(files, num_of_samples = 100):\n",
    "    keys_count = {}\n",
    "    samples = []\n",
    "    duplicate_count = 0\n",
    "    for i in tqdm(range(num_of_samples)):\n",
    "        sample_idx = np.random.randint(0,len(files))\n",
    "        class_name = files[sample_idx][1]\n",
    "        for tries in range(10):\n",
    "            anchor_positive_indices = np.random.choice(np.where(files[:,1]==class_name)[0],size=2,replace=False)\n",
    "            negative_idx = np.random.choice(np.where(files[:,1]!=class_name)[0], size=1, replace=False)[0]\n",
    "            triplet = (anchor_positive_indices[0],anchor_positive_indices[1],negative_idx)\n",
    "            triplet_key = \"-\".join([str(anchor_positive_indices[0]),str(anchor_positive_indices[1]),str(negative_idx)])\n",
    "            if triplet_key not in keys_count.keys():\n",
    "                keys_count[triplet_key] = 0\n",
    "                break\n",
    "        keys_count[triplet_key] += 1\n",
    "        if keys_count[triplet_key]>1:\n",
    "            duplicate_count += 1\n",
    "        samples.append(triplet)\n",
    "    print(\"Duplicate Count:\", duplicate_count)\n",
    "    return samples\n",
    "\n",
    "def fetch_files(directory, classes):\n",
    "    files = [(os.path.join(directory,class_,file),class_) for class_ in classes for file in sorted(os.listdir(os.path.join(directory,class_)))]\n",
    "    class_wise = {}\n",
    "    for file in files:\n",
    "        if file[1] not in class_wise.keys():\n",
    "            class_wise[file[1]] = []\n",
    "        class_wise[file[1]].append(file[0])\n",
    "    return np.array(files), class_wise\n",
    "\n",
    "def get_model(name):\n",
    "    if name == \"efficientnet-b0\":\n",
    "        model = torchvision.models.efficientnet.efficientnet_b0(pretrained=True)\n",
    "    elif name == \"efficientnet-b1\":\n",
    "        model = torchvision.models.efficientnet.efficientnet_b1(pretrained=True)\n",
    "    elif name == \"efficientnet-b2\":\n",
    "        model = torchvision.models.efficientnet.efficientnet_b2(pretrained=True)\n",
    "    elif name == \"efficientnet-b3\":\n",
    "        model = torchvision.models.efficientnet.efficientnet_b3(pretrained=True)\n",
    "    elif name == \"efficientnet-b4\":\n",
    "        model = torchvision.models.efficientnet.efficientnet_b4(pretrained=True)\n",
    "    elif name == \"efficientnet-b5\":\n",
    "        model = torchvision.models.efficientnet.efficientnet_b5(pretrained=True)\n",
    "    elif name == \"efficientnet-b6\":\n",
    "        model = torchvision.models.efficientnet.efficientnet_b6(pretrained=True)\n",
    "    elif name == \"efficientnet-b7\":\n",
    "        model = torchvision.models.efficientnet.efficientnet_b7(pretrained=True)\n",
    "    elif name == \"YOLOv10\":\n",
    "        model = torchvision.models.efficientnet.YOLOv10(pretrained=True)\n",
    "    elif name == \"resnet34\":\n",
    "        model = torchvision.models.efficientnet.resnet34(pretrained=True)\n",
    "    elif name == \"squeezenet1_1\":\n",
    "        model = torchvision.models.efficientnet.squeezenet1_1(pretrained=True)\n",
    "    return model\n",
    "\n",
    "class LeafyLoader(Dataset):\n",
    "    def __init__(self, files, transforms):\n",
    "        self.files = files\n",
    "        self.transforms = transforms\n",
    "        \n",
    "    def __len__(self):\n",
    "        return len(self.files)\n",
    "\n",
    "    def __getitem__(self, index):\n",
    "        file = self.files[index]\n",
    "        img = cv2.imread(file[0])\n",
    "        label = file[1]\n",
    "        return (\n",
    "            np.transpose(self.transforms(image=img)[\"image\"],(2,0,1)),\n",
    "            label\n",
    "        )\n",
    "    \n",
    "class LeafyTripletLoader(Dataset):\n",
    "    def __init__(self, files, triplets, transforms):\n",
    "        self.files = files\n",
    "        self.triplets = triplets\n",
    "        self.transforms = transforms\n",
    "        \n",
    "    def __len__(self):\n",
    "        return len(self.triplets)\n",
    "\n",
    "    def __getitem__(self, index):\n",
    "        triplet = self.triplets[index]\n",
    "        anchor = cv2.imread(self.files[triplet[0]][0])\n",
    "        positive = cv2.imread(self.files[triplet[1]][0])\n",
    "        negative = cv2.imread(self.files[triplet[2]][0])\n",
    "        return (\n",
    "            np.transpose(self.transforms(image=anchor)[\"image\"],(2,0,1)),\n",
    "            np.transpose(self.transforms(image=positive)[\"image\"],(2,0,1)),\n",
    "            np.transpose(self.transforms(image=negative)[\"image\"],(2,0,1))\n",
    "        )\n",
    "    \n",
    "\n",
    "class LeafyModel(torch.nn.Module):\n",
    "    def __init__(self, name=\"efficientnet-b0\"):\n",
    "        super(LeafyModel, self).__init__()\n",
    "        model = get_model(name)\n",
    "        self.embedder = torch.nn.Sequential(\n",
    "            model,\n",
    "            torch.nn.Linear(1000, 1024),\n",
    "            torch.nn.PReLU(),\n",
    "            torch.nn.Linear(1024, 512)\n",
    "        )\n",
    "\n",
    "    def forward(self, x):\n",
    "        x = self.embedder(x)\n",
    "        return x\n"
   ]
  },
  {
   "cell_type": "code",
   "execution_count": 3,
   "id": "cd00c2ba",
   "metadata": {
    "execution": {
     "iopub.execute_input": "2024-09-06T14:30:52.131690Z",
     "iopub.status.busy": "2024-09-06T14:30:52.131429Z",
     "iopub.status.idle": "2024-09-06T14:31:03.694172Z",
     "shell.execute_reply": "2024-09-06T14:31:03.693232Z"
    },
    "papermill": {
     "duration": 11.570512,
     "end_time": "2024-09-06T14:31:03.696419",
     "exception": false,
     "start_time": "2024-09-06T14:30:52.125907",
     "status": "completed"
    },
    "tags": []
   },
   "outputs": [
    {
     "name": "stdout",
     "output_type": "stream",
     "text": [
      "Total Training Files: 70295\n",
      "Total Validation Files: 17572\n"
     ]
    }
   ],
   "source": [
    "base_dir = \"/kaggle/input/new-plant-diseases-dataset/New Plant Diseases Dataset(Augmented)/New Plant Diseases Dataset(Augmented)/\"\n",
    "\n",
    "classes = sorted(os.listdir(base_dir+\"train/\"))\n",
    "classes = [c for c in classes if \".\" not in c]\n",
    "\n",
    "train_files, classwise = fetch_files(base_dir+\"train/\", classes)\n",
    "valid_files, _ = fetch_files(base_dir+\"valid\", classes)\n",
    "print(\"Total Training Files:\",len(train_files))\n",
    "print(\"Total Validation Files:\",len(valid_files))"
   ]
  },
  {
   "cell_type": "code",
   "execution_count": 4,
   "id": "55c36bd6",
   "metadata": {
    "execution": {
     "iopub.execute_input": "2024-09-06T14:31:03.707514Z",
     "iopub.status.busy": "2024-09-06T14:31:03.707235Z",
     "iopub.status.idle": "2024-09-06T14:33:54.816928Z",
     "shell.execute_reply": "2024-09-06T14:33:54.816015Z"
    },
    "papermill": {
     "duration": 171.118009,
     "end_time": "2024-09-06T14:33:54.819522",
     "exception": false,
     "start_time": "2024-09-06T14:31:03.701513",
     "status": "completed"
    },
    "tags": []
   },
   "outputs": [
    {
     "name": "stderr",
     "output_type": "stream",
     "text": [
      "100%|██████████| 50000/50000 [02:41<00:00, 309.04it/s]\n"
     ]
    },
    {
     "name": "stdout",
     "output_type": "stream",
     "text": [
      "Duplicate Count: 0\n"
     ]
    },
    {
     "name": "stderr",
     "output_type": "stream",
     "text": [
      "100%|██████████| 10000/10000 [00:08<00:00, 1147.27it/s]\n"
     ]
    },
    {
     "name": "stdout",
     "output_type": "stream",
     "text": [
      "Duplicate Count: 0\n"
     ]
    }
   ],
   "source": [
    "train_triplets = generate_triplets(train_files, 50000)\n",
    "valid_triplets = generate_triplets(valid_files, 10000)\n",
    "with open('train_triplets.pkl', 'wb') as f:\n",
    "    pickle.dump(train_triplets, f)\n",
    "with open('valid_triplets.pkl', 'wb') as f:\n",
    "    pickle.dump(valid_triplets, f)\n"
   ]
  },
  {
   "cell_type": "code",
   "execution_count": 5,
   "id": "7a986e89",
   "metadata": {
    "execution": {
     "iopub.execute_input": "2024-09-06T14:33:55.085021Z",
     "iopub.status.busy": "2024-09-06T14:33:55.084647Z",
     "iopub.status.idle": "2024-09-06T14:33:55.094780Z",
     "shell.execute_reply": "2024-09-06T14:33:55.093936Z"
    },
    "papermill": {
     "duration": 0.14519,
     "end_time": "2024-09-06T14:33:55.096732",
     "exception": false,
     "start_time": "2024-09-06T14:33:54.951542",
     "status": "completed"
    },
    "tags": []
   },
   "outputs": [],
   "source": [
    "train_transforms = A.Compose([\n",
    "            A.Resize(256,256),\n",
    "            A.transforms.FancyPCA(p=0.2),\n",
    "            A.transforms.PixelDropout(p=0.2),\n",
    "            A.augmentations.geometric.transforms.VerticalFlip(p=0.5),\n",
    "            A.augmentations.geometric.transforms.HorizontalFlip(p=0.5),\n",
    "            A.Rotate(p=0.2,limit=(-10, 10),border_mode=0,value=0,mask_value=0),#\n",
    "            A.RandomBrightnessContrast(brightness_limit=0.1, contrast_limit=0.1, p=0.2),\n",
    "            A.Normalize(always_apply=True, p=1.0, mean=(0.5, 0.5, 0.5), std=(0.5, 0.5, 0.5))\n",
    "            ], p=1.0)\n",
    "valid_transforms = A.Compose([\n",
    "            A.Resize(256,256),\n",
    "            A.Normalize(always_apply=True, p=1.0, mean=(0.5, 0.5, 0.5), std=(0.5, 0.5, 0.5))\n",
    "            ], p=1.0)\n",
    "\n",
    "train_dataset = LeafyTripletLoader(train_files, train_triplets, train_transforms)\n",
    "valid_dataset = LeafyTripletLoader(valid_files, valid_triplets, valid_transforms)\n",
    "train_loader = torch.utils.data.DataLoader(train_dataset,batch_size=32,shuffle=True,num_workers=2)\n",
    "valid_loader = torch.utils.data.DataLoader(valid_dataset,batch_size=32,shuffle=False,num_workers=2)\n"
   ]
  },
  {
   "cell_type": "code",
   "execution_count": 6,
   "id": "125ba158",
   "metadata": {
    "execution": {
     "iopub.execute_input": "2024-09-06T14:33:55.363941Z",
     "iopub.status.busy": "2024-09-06T14:33:55.363103Z",
     "iopub.status.idle": "2024-09-06T14:33:56.042707Z",
     "shell.execute_reply": "2024-09-06T14:33:56.041804Z"
    },
    "papermill": {
     "duration": 0.814884,
     "end_time": "2024-09-06T14:33:56.044777",
     "exception": false,
     "start_time": "2024-09-06T14:33:55.229893",
     "status": "completed"
    },
    "tags": []
   },
   "outputs": [
    {
     "name": "stderr",
     "output_type": "stream",
     "text": [
      "/opt/conda/lib/python3.10/site-packages/torchvision/models/_utils.py:208: UserWarning: The parameter 'pretrained' is deprecated since 0.13 and may be removed in the future, please use 'weights' instead.\n",
      "  warnings.warn(\n",
      "/opt/conda/lib/python3.10/site-packages/torchvision/models/_utils.py:223: UserWarning: Arguments other than a weight enum or `None` for 'weights' are deprecated since 0.13 and may be removed in the future. The current behavior is equivalent to passing `weights=EfficientNet_B0_Weights.IMAGENET1K_V1`. You can also use `weights=EfficientNet_B0_Weights.DEFAULT` to get the most up-to-date weights.\n",
      "  warnings.warn(msg)\n",
      "Downloading: \"https://download.pytorch.org/models/efficientnet_b0_rwightman-3dd342df.pth\" to /root/.cache/torch/hub/checkpoints/efficientnet_b0_rwightman-3dd342df.pth\n",
      "100%|██████████| 20.5M/20.5M [00:00<00:00, 166MB/s]\n"
     ]
    },
    {
     "data": {
      "text/plain": [
       "TripletMarginLoss()"
      ]
     },
     "execution_count": 6,
     "metadata": {},
     "output_type": "execute_result"
    }
   ],
   "source": [
    "epochs = 15\n",
    "learning_rate = 1e-3\n",
    "model_name = \"efficientnet-b0\"\n",
    "KNN_K = 3\n",
    "\n",
    "device = torch.device(\"cuda:0\" if torch.cuda.is_available() else \"cpu\")\n",
    "model = LeafyModel(name=model_name)\n",
    "optimizer = torch.optim.Adam(model.parameters(), lr=learning_rate)\n",
    "criterion = torch.nn.TripletMarginLoss()\n",
    "model.to(device)\n",
    "criterion.to(device)\n"
   ]
  },
  {
   "cell_type": "code",
   "execution_count": 7,
   "id": "ccbf6dbb",
   "metadata": {
    "execution": {
     "iopub.execute_input": "2024-09-06T14:33:56.310129Z",
     "iopub.status.busy": "2024-09-06T14:33:56.309252Z",
     "iopub.status.idle": "2024-09-06T17:42:15.650480Z",
     "shell.execute_reply": "2024-09-06T17:42:15.649264Z"
    },
    "papermill": {
     "duration": 11299.476413,
     "end_time": "2024-09-06T17:42:15.652930",
     "exception": false,
     "start_time": "2024-09-06T14:33:56.176517",
     "status": "completed"
    },
    "tags": []
   },
   "outputs": [
    {
     "name": "stderr",
     "output_type": "stream",
     "text": [
      "loss: 0.69376:: 100%|██████████| 1563/1563 [12:08<00:00,  2.14it/s]\n",
      "100%|██████████| 313/313 [01:38<00:00,  3.17it/s]\n"
     ]
    },
    {
     "name": "stdout",
     "output_type": "stream",
     "text": [
      "Training Loss: 0.21124599318205356\n",
      "Validation Loss: 0.07137757820633654\n"
     ]
    },
    {
     "name": "stderr",
     "output_type": "stream",
     "text": [
      "loss: 0.18413:: 100%|██████████| 1563/1563 [11:16<00:00,  2.31it/s]\n",
      "100%|██████████| 313/313 [01:09<00:00,  4.49it/s]\n"
     ]
    },
    {
     "name": "stdout",
     "output_type": "stream",
     "text": [
      "Training Loss: 0.10720440844027415\n",
      "Validation Loss: 0.05411505984802977\n"
     ]
    },
    {
     "name": "stderr",
     "output_type": "stream",
     "text": [
      "loss: 0.00000:: 100%|██████████| 1563/1563 [11:18<00:00,  2.30it/s]\n",
      "100%|██████████| 313/313 [01:07<00:00,  4.61it/s]\n"
     ]
    },
    {
     "name": "stdout",
     "output_type": "stream",
     "text": [
      "Training Loss: 0.07241717737432633\n",
      "Validation Loss: 0.04371288611580389\n"
     ]
    },
    {
     "name": "stderr",
     "output_type": "stream",
     "text": [
      "loss: 0.00000:: 100%|██████████| 1563/1563 [11:19<00:00,  2.30it/s]\n",
      "100%|██████████| 313/313 [01:07<00:00,  4.63it/s]\n"
     ]
    },
    {
     "name": "stdout",
     "output_type": "stream",
     "text": [
      "Training Loss: 0.06565894952052233\n",
      "Validation Loss: 0.045994781600400665\n"
     ]
    },
    {
     "name": "stderr",
     "output_type": "stream",
     "text": [
      "loss: 0.00000:: 100%|██████████| 1563/1563 [11:19<00:00,  2.30it/s]\n",
      "100%|██████████| 313/313 [01:09<00:00,  4.47it/s]\n"
     ]
    },
    {
     "name": "stdout",
     "output_type": "stream",
     "text": [
      "Training Loss: 0.05651845382103459\n",
      "Validation Loss: 0.03714556282701584\n"
     ]
    },
    {
     "name": "stderr",
     "output_type": "stream",
     "text": [
      "loss: 0.00000:: 100%|██████████| 1563/1563 [11:18<00:00,  2.30it/s]\n",
      "100%|██████████| 313/313 [01:11<00:00,  4.35it/s]\n"
     ]
    },
    {
     "name": "stdout",
     "output_type": "stream",
     "text": [
      "Training Loss: 0.07120838153080077\n",
      "Validation Loss: 0.046920042925368485\n"
     ]
    },
    {
     "name": "stderr",
     "output_type": "stream",
     "text": [
      "loss: 0.00000:: 100%|██████████| 1563/1563 [11:19<00:00,  2.30it/s]\n",
      "100%|██████████| 313/313 [01:07<00:00,  4.64it/s]\n"
     ]
    },
    {
     "name": "stdout",
     "output_type": "stream",
     "text": [
      "Training Loss: 0.055713752500345826\n",
      "Validation Loss: 0.05171322060850101\n"
     ]
    },
    {
     "name": "stderr",
     "output_type": "stream",
     "text": [
      "loss: 0.00000:: 100%|██████████| 1563/1563 [11:19<00:00,  2.30it/s]\n",
      "100%|██████████| 313/313 [01:06<00:00,  4.73it/s]\n"
     ]
    },
    {
     "name": "stdout",
     "output_type": "stream",
     "text": [
      "Training Loss: 0.04623157603955772\n",
      "Validation Loss: 0.04128995644874847\n"
     ]
    },
    {
     "name": "stderr",
     "output_type": "stream",
     "text": [
      "loss: 0.00000:: 100%|██████████| 1563/1563 [11:19<00:00,  2.30it/s]\n",
      "100%|██████████| 313/313 [01:12<00:00,  4.32it/s]\n"
     ]
    },
    {
     "name": "stdout",
     "output_type": "stream",
     "text": [
      "Training Loss: 0.04265988981369132\n",
      "Validation Loss: 0.0380552024030076\n"
     ]
    },
    {
     "name": "stderr",
     "output_type": "stream",
     "text": [
      "loss: 0.00000:: 100%|██████████| 1563/1563 [11:19<00:00,  2.30it/s]\n",
      "100%|██████████| 313/313 [01:07<00:00,  4.63it/s]\n"
     ]
    },
    {
     "name": "stdout",
     "output_type": "stream",
     "text": [
      "Training Loss: 0.04424754903435478\n",
      "Validation Loss: 0.033785503107709246\n"
     ]
    },
    {
     "name": "stderr",
     "output_type": "stream",
     "text": [
      "loss: 0.00000:: 100%|██████████| 1563/1563 [11:19<00:00,  2.30it/s]\n",
      "100%|██████████| 313/313 [01:09<00:00,  4.53it/s]\n"
     ]
    },
    {
     "name": "stdout",
     "output_type": "stream",
     "text": [
      "Training Loss: 0.02414293111953229\n",
      "Validation Loss: 0.020561047767202693\n"
     ]
    },
    {
     "name": "stderr",
     "output_type": "stream",
     "text": [
      "loss: 0.00000:: 100%|██████████| 1563/1563 [11:19<00:00,  2.30it/s]\n",
      "100%|██████████| 313/313 [01:08<00:00,  4.59it/s]\n"
     ]
    },
    {
     "name": "stdout",
     "output_type": "stream",
     "text": [
      "Training Loss: 0.014807325998179362\n",
      "Validation Loss: 0.028564370311677648\n"
     ]
    },
    {
     "name": "stderr",
     "output_type": "stream",
     "text": [
      "loss: 0.05322:: 100%|██████████| 1563/1563 [11:19<00:00,  2.30it/s]\n",
      "100%|██████████| 313/313 [01:07<00:00,  4.61it/s]\n"
     ]
    },
    {
     "name": "stdout",
     "output_type": "stream",
     "text": [
      "Training Loss: 0.050370122467525785\n",
      "Validation Loss: 0.2989916382506252\n"
     ]
    },
    {
     "name": "stderr",
     "output_type": "stream",
     "text": [
      "loss: 0.00000:: 100%|██████████| 1563/1563 [11:19<00:00,  2.30it/s]\n",
      "100%|██████████| 313/313 [01:06<00:00,  4.68it/s]\n"
     ]
    },
    {
     "name": "stdout",
     "output_type": "stream",
     "text": [
      "Training Loss: 0.06531450573786358\n",
      "Validation Loss: 0.03710201889657365\n"
     ]
    },
    {
     "name": "stderr",
     "output_type": "stream",
     "text": [
      "loss: 0.00000:: 100%|██████████| 1563/1563 [11:20<00:00,  2.30it/s]\n",
      "100%|██████████| 313/313 [01:07<00:00,  4.62it/s]"
     ]
    },
    {
     "name": "stdout",
     "output_type": "stream",
     "text": [
      "Training Loss: 0.015220705774908866\n",
      "Validation Loss: 0.026572797078484544\n"
     ]
    },
    {
     "name": "stderr",
     "output_type": "stream",
     "text": [
      "\n"
     ]
    }
   ],
   "source": [
    "\n",
    "train_losses = []\n",
    "valid_losses = []\n",
    "for epoch in range(epochs):\n",
    "\n",
    "    accum_iter = 4\n",
    "    bar = tqdm(train_loader, total=len(train_loader))\n",
    "    model.train()\n",
    "    train_loss = 0\n",
    "    for batch_idx,data in enumerate(bar):\n",
    "        anchor, positive, negative = data[0].to(device),data[1].to(device),data[2].to(device)\n",
    "        anchor_emb = model(anchor)\n",
    "        positive_emb = model(positive)\n",
    "        negative_emb = model(negative)\n",
    "        loss = criterion(anchor_emb, positive_emb, negative_emb)\n",
    "        loss = loss / accum_iter\n",
    "        loss.backward()\n",
    "        if ((batch_idx + 1) % accum_iter == 0) or (batch_idx + 1 == len(train_loader)):\n",
    "            optimizer.step()\n",
    "            optimizer.zero_grad()\n",
    "        loss_np = loss.detach().cpu().numpy()*accum_iter\n",
    "        train_loss+=loss_np\n",
    "        bar.set_description('loss: %.5f:' % (loss_np))\n",
    "\n",
    "    model.eval()\n",
    "    test_loss = 0\n",
    "\n",
    "    with torch.no_grad():\n",
    "        for data in tqdm(valid_loader, total=len(valid_loader)):\n",
    "            \n",
    "            anchor, positive, negative = data[0].to(device),data[1].to(device),data[2].to(device)\n",
    "            anchor_emb = model(anchor)\n",
    "            positive_emb = model(positive)\n",
    "            negative_emb = model(negative)\n",
    "            loss = criterion(anchor_emb, positive_emb, negative_emb)\n",
    "            test_loss+=loss.item()\n",
    "    print(\"Training Loss:\",train_loss/len(train_loader))\n",
    "    print(\"Validation Loss:\",test_loss/len(valid_loader))\n",
    "\n",
    "    train_losses.append(train_loss/len(train_loader))\n",
    "    valid_losses.append(test_loss/len(valid_loader))\n",
    "    torch.save( model.state_dict(), f\"./{model_name}_{epoch+1}.pth\")"
   ]
  },
  {
   "cell_type": "markdown",
   "id": "0b3b961e",
   "metadata": {
    "papermill": {
     "duration": 4.346097,
     "end_time": "2024-09-06T17:42:24.362161",
     "exception": false,
     "start_time": "2024-09-06T17:42:20.016064",
     "status": "completed"
    },
    "tags": []
   },
   "source": [
    "# Testing Begins from Here"
   ]
  },
  {
   "cell_type": "code",
   "execution_count": 8,
   "id": "e5b221e3",
   "metadata": {
    "execution": {
     "iopub.execute_input": "2024-09-06T17:42:33.086537Z",
     "iopub.status.busy": "2024-09-06T17:42:33.085581Z",
     "iopub.status.idle": "2024-09-06T17:42:33.533308Z",
     "shell.execute_reply": "2024-09-06T17:42:33.532254Z"
    },
    "papermill": {
     "duration": 4.838212,
     "end_time": "2024-09-06T17:42:33.535271",
     "exception": false,
     "start_time": "2024-09-06T17:42:28.697059",
     "status": "completed"
    },
    "tags": []
   },
   "outputs": [
    {
     "name": "stdout",
     "output_type": "stream",
     "text": [
      "Test Files: 840\n"
     ]
    }
   ],
   "source": [
    "test_dir = \"/kaggle/input/plant-disease-expert/Small testing with the dataset/Small testing with the dataset/test\"\n",
    "classes = sorted(os.listdir(test_dir))\n",
    "\n",
    "test_files, test_classwise = fetch_files(test_dir, classes)\n",
    "print(\"Test Files:\",len(test_files))"
   ]
  },
  {
   "cell_type": "code",
   "execution_count": 9,
   "id": "a8a5e8ba",
   "metadata": {
    "execution": {
     "iopub.execute_input": "2024-09-06T17:42:42.376439Z",
     "iopub.status.busy": "2024-09-06T17:42:42.376083Z",
     "iopub.status.idle": "2024-09-06T17:42:42.381435Z",
     "shell.execute_reply": "2024-09-06T17:42:42.380570Z"
    },
    "papermill": {
     "duration": 4.399944,
     "end_time": "2024-09-06T17:42:42.383301",
     "exception": false,
     "start_time": "2024-09-06T17:42:37.983357",
     "status": "completed"
    },
    "tags": []
   },
   "outputs": [],
   "source": [
    "test_transforms = A.Compose([\n",
    "            A.Resize(256,256),\n",
    "            A.Normalize(always_apply=True, p=1.0, mean=(0.5, 0.5, 0.5), std=(0.5, 0.5, 0.5))\n",
    "            ], p=1.0)"
   ]
  },
  {
   "cell_type": "code",
   "execution_count": 10,
   "id": "c9da4d02",
   "metadata": {
    "execution": {
     "iopub.execute_input": "2024-09-06T17:42:51.091526Z",
     "iopub.status.busy": "2024-09-06T17:42:51.090847Z",
     "iopub.status.idle": "2024-09-06T17:42:51.099575Z",
     "shell.execute_reply": "2024-09-06T17:42:51.098894Z"
    },
    "papermill": {
     "duration": 4.363196,
     "end_time": "2024-09-06T17:42:51.101488",
     "exception": false,
     "start_time": "2024-09-06T17:42:46.738292",
     "status": "completed"
    },
    "tags": []
   },
   "outputs": [],
   "source": [
    "samples_per_class = []\n",
    "for idx in range(len(classes)):\n",
    "    samples = test_files[test_files[:,1]==classes[idx]]\n",
    "    for i in range(KNN_K):\n",
    "        samples_per_class.append(samples[i])\n",
    "samples_per_class = np.array(samples_per_class)\n",
    "\n",
    "\n",
    "train_dataset = LeafyLoader(samples_per_class, test_transforms)\n",
    "train_loader = torch.utils.data.DataLoader(train_dataset,batch_size=1,shuffle=False,num_workers=2)\n",
    "\n",
    "test_dataset = LeafyLoader(test_files, test_transforms)\n",
    "test_loader = torch.utils.data.DataLoader(test_dataset,batch_size=1,shuffle=False,num_workers=2)"
   ]
  },
  {
   "cell_type": "code",
   "execution_count": 11,
   "id": "d0c331c8",
   "metadata": {
    "execution": {
     "iopub.execute_input": "2024-09-06T17:42:59.766811Z",
     "iopub.status.busy": "2024-09-06T17:42:59.766375Z",
     "iopub.status.idle": "2024-09-06T17:43:00.484984Z",
     "shell.execute_reply": "2024-09-06T17:43:00.483742Z"
    },
    "papermill": {
     "duration": 5.066493,
     "end_time": "2024-09-06T17:43:00.487079",
     "exception": false,
     "start_time": "2024-09-06T17:42:55.420586",
     "status": "completed"
    },
    "tags": []
   },
   "outputs": [
    {
     "name": "stderr",
     "output_type": "stream",
     "text": [
      "100%|██████████| 42/42 [00:00<00:00, 59.49it/s]\n"
     ]
    }
   ],
   "source": [
    "embeddings_samples = []\n",
    "embeddings_classes = []\n",
    "with torch.no_grad():\n",
    "    for data in tqdm(train_loader, total=len(train_loader)):\n",
    "        embeddings_classes.append(data[1][0])\n",
    "        embedding = model(data[0].to(device))[0].cpu().numpy()\n",
    "        embeddings_samples.append(embedding)\n",
    "# embeddings_classes\n",
    "embedding_keys_2_labels = {}\n",
    "unique_count = 0\n",
    "for i in range(len(embeddings_classes)):\n",
    "    if embeddings_classes[i] not in embedding_keys_2_labels.keys():\n",
    "        embedding_keys_2_labels[embeddings_classes[i]] = unique_count\n",
    "        unique_count+=1\n",
    "\n",
    "embeddings_samples = np.array(embeddings_samples)\n",
    "y_train = [embedding_keys_2_labels[emb_class] for emb_class in embeddings_classes]\n"
   ]
  },
  {
   "cell_type": "code",
   "execution_count": 12,
   "id": "19d4f5d4",
   "metadata": {
    "execution": {
     "iopub.execute_input": "2024-09-06T17:43:09.278368Z",
     "iopub.status.busy": "2024-09-06T17:43:09.277962Z",
     "iopub.status.idle": "2024-09-06T17:43:09.320829Z",
     "shell.execute_reply": "2024-09-06T17:43:09.319914Z"
    },
    "papermill": {
     "duration": 4.399399,
     "end_time": "2024-09-06T17:43:09.322998",
     "exception": false,
     "start_time": "2024-09-06T17:43:04.923599",
     "status": "completed"
    },
    "tags": []
   },
   "outputs": [
    {
     "data": {
      "text/html": [
       "<style>#sk-container-id-1 {color: black;background-color: white;}#sk-container-id-1 pre{padding: 0;}#sk-container-id-1 div.sk-toggleable {background-color: white;}#sk-container-id-1 label.sk-toggleable__label {cursor: pointer;display: block;width: 100%;margin-bottom: 0;padding: 0.3em;box-sizing: border-box;text-align: center;}#sk-container-id-1 label.sk-toggleable__label-arrow:before {content: \"▸\";float: left;margin-right: 0.25em;color: #696969;}#sk-container-id-1 label.sk-toggleable__label-arrow:hover:before {color: black;}#sk-container-id-1 div.sk-estimator:hover label.sk-toggleable__label-arrow:before {color: black;}#sk-container-id-1 div.sk-toggleable__content {max-height: 0;max-width: 0;overflow: hidden;text-align: left;background-color: #f0f8ff;}#sk-container-id-1 div.sk-toggleable__content pre {margin: 0.2em;color: black;border-radius: 0.25em;background-color: #f0f8ff;}#sk-container-id-1 input.sk-toggleable__control:checked~div.sk-toggleable__content {max-height: 200px;max-width: 100%;overflow: auto;}#sk-container-id-1 input.sk-toggleable__control:checked~label.sk-toggleable__label-arrow:before {content: \"▾\";}#sk-container-id-1 div.sk-estimator input.sk-toggleable__control:checked~label.sk-toggleable__label {background-color: #d4ebff;}#sk-container-id-1 div.sk-label input.sk-toggleable__control:checked~label.sk-toggleable__label {background-color: #d4ebff;}#sk-container-id-1 input.sk-hidden--visually {border: 0;clip: rect(1px 1px 1px 1px);clip: rect(1px, 1px, 1px, 1px);height: 1px;margin: -1px;overflow: hidden;padding: 0;position: absolute;width: 1px;}#sk-container-id-1 div.sk-estimator {font-family: monospace;background-color: #f0f8ff;border: 1px dotted black;border-radius: 0.25em;box-sizing: border-box;margin-bottom: 0.5em;}#sk-container-id-1 div.sk-estimator:hover {background-color: #d4ebff;}#sk-container-id-1 div.sk-parallel-item::after {content: \"\";width: 100%;border-bottom: 1px solid gray;flex-grow: 1;}#sk-container-id-1 div.sk-label:hover label.sk-toggleable__label {background-color: #d4ebff;}#sk-container-id-1 div.sk-serial::before {content: \"\";position: absolute;border-left: 1px solid gray;box-sizing: border-box;top: 0;bottom: 0;left: 50%;z-index: 0;}#sk-container-id-1 div.sk-serial {display: flex;flex-direction: column;align-items: center;background-color: white;padding-right: 0.2em;padding-left: 0.2em;position: relative;}#sk-container-id-1 div.sk-item {position: relative;z-index: 1;}#sk-container-id-1 div.sk-parallel {display: flex;align-items: stretch;justify-content: center;background-color: white;position: relative;}#sk-container-id-1 div.sk-item::before, #sk-container-id-1 div.sk-parallel-item::before {content: \"\";position: absolute;border-left: 1px solid gray;box-sizing: border-box;top: 0;bottom: 0;left: 50%;z-index: -1;}#sk-container-id-1 div.sk-parallel-item {display: flex;flex-direction: column;z-index: 1;position: relative;background-color: white;}#sk-container-id-1 div.sk-parallel-item:first-child::after {align-self: flex-end;width: 50%;}#sk-container-id-1 div.sk-parallel-item:last-child::after {align-self: flex-start;width: 50%;}#sk-container-id-1 div.sk-parallel-item:only-child::after {width: 0;}#sk-container-id-1 div.sk-dashed-wrapped {border: 1px dashed gray;margin: 0 0.4em 0.5em 0.4em;box-sizing: border-box;padding-bottom: 0.4em;background-color: white;}#sk-container-id-1 div.sk-label label {font-family: monospace;font-weight: bold;display: inline-block;line-height: 1.2em;}#sk-container-id-1 div.sk-label-container {text-align: center;}#sk-container-id-1 div.sk-container {/* jupyter's `normalize.less` sets `[hidden] { display: none; }` but bootstrap.min.css set `[hidden] { display: none !important; }` so we also need the `!important` here to be able to override the default hidden behavior on the sphinx rendered scikit-learn.org. See: https://github.com/scikit-learn/scikit-learn/issues/21755 */display: inline-block !important;position: relative;}#sk-container-id-1 div.sk-text-repr-fallback {display: none;}</style><div id=\"sk-container-id-1\" class=\"sk-top-container\"><div class=\"sk-text-repr-fallback\"><pre>KNeighborsClassifier(n_neighbors=3)</pre><b>In a Jupyter environment, please rerun this cell to show the HTML representation or trust the notebook. <br />On GitHub, the HTML representation is unable to render, please try loading this page with nbviewer.org.</b></div><div class=\"sk-container\" hidden><div class=\"sk-item\"><div class=\"sk-estimator sk-toggleable\"><input class=\"sk-toggleable__control sk-hidden--visually\" id=\"sk-estimator-id-1\" type=\"checkbox\" checked><label for=\"sk-estimator-id-1\" class=\"sk-toggleable__label sk-toggleable__label-arrow\">KNeighborsClassifier</label><div class=\"sk-toggleable__content\"><pre>KNeighborsClassifier(n_neighbors=3)</pre></div></div></div></div></div>"
      ],
      "text/plain": [
       "KNeighborsClassifier(n_neighbors=3)"
      ]
     },
     "execution_count": 12,
     "metadata": {},
     "output_type": "execute_result"
    }
   ],
   "source": [
    "from sklearn.neighbors import KNeighborsClassifier\n",
    "knn = KNeighborsClassifier(n_neighbors=KNN_K)\n",
    "knn.fit(embeddings_samples, y_train)"
   ]
  },
  {
   "cell_type": "code",
   "execution_count": 13,
   "id": "470aa5cf",
   "metadata": {
    "execution": {
     "iopub.execute_input": "2024-09-06T17:43:18.247841Z",
     "iopub.status.busy": "2024-09-06T17:43:18.247115Z",
     "iopub.status.idle": "2024-09-06T17:43:31.492024Z",
     "shell.execute_reply": "2024-09-06T17:43:31.490805Z"
    },
    "papermill": {
     "duration": 17.731005,
     "end_time": "2024-09-06T17:43:31.494018",
     "exception": false,
     "start_time": "2024-09-06T17:43:13.763013",
     "status": "completed"
    },
    "tags": []
   },
   "outputs": [
    {
     "name": "stderr",
     "output_type": "stream",
     "text": [
      "100%|██████████| 840/840 [00:13<00:00, 63.47it/s]\n"
     ]
    }
   ],
   "source": [
    "embeddings_test = []\n",
    "y_pred = []\n",
    "classes_test = []\n",
    "with torch.no_grad():\n",
    "    for data in tqdm(test_loader, total=len(test_loader)):\n",
    "        classes_test.append(data[1][0])\n",
    "        embedding = model(data[0].to(device))[0].cpu().numpy()\n",
    "        y_pred.append(knn.predict(np.array([embedding]))[0])\n",
    "\n",
    "y_test = np.array([embedding_keys_2_labels[emb_class] for emb_class in classes_test])"
   ]
  },
  {
   "cell_type": "code",
   "execution_count": 14,
   "id": "e5935c89",
   "metadata": {
    "execution": {
     "iopub.execute_input": "2024-09-06T17:43:40.232648Z",
     "iopub.status.busy": "2024-09-06T17:43:40.232241Z",
     "iopub.status.idle": "2024-09-06T17:43:40.250419Z",
     "shell.execute_reply": "2024-09-06T17:43:40.249406Z"
    },
    "papermill": {
     "duration": 4.398399,
     "end_time": "2024-09-06T17:43:40.252520",
     "exception": false,
     "start_time": "2024-09-06T17:43:35.854121",
     "status": "completed"
    },
    "tags": []
   },
   "outputs": [
    {
     "name": "stdout",
     "output_type": "stream",
     "text": [
      "              precision    recall  f1-score   support\n",
      "\n",
      "           0       0.88      0.98      0.93        60\n",
      "           1       0.96      0.90      0.93        60\n",
      "           2       0.90      1.00      0.94        60\n",
      "           3       0.77      0.95      0.85        60\n",
      "           4       0.91      1.00      0.95        60\n",
      "           5       0.35      0.58      0.43        60\n",
      "           6       0.64      0.58      0.61        60\n",
      "           7       0.80      0.68      0.74        60\n",
      "           8       0.65      0.52      0.57        60\n",
      "           9       0.77      0.88      0.82        60\n",
      "          10       0.77      0.45      0.57        60\n",
      "          11       0.79      1.00      0.88        60\n",
      "          12       0.98      1.00      0.99        60\n",
      "          13       1.00      0.23      0.38        60\n",
      "\n",
      "    accuracy                           0.77       840\n",
      "   macro avg       0.80      0.77      0.76       840\n",
      "weighted avg       0.80      0.77      0.76       840\n",
      "\n"
     ]
    }
   ],
   "source": [
    "from sklearn.metrics import classification_report\n",
    "from sklearn.metrics import confusion_matrix\n",
    "import matplotlib.pyplot as plt\n",
    "\n",
    "print(classification_report(y_test, y_pred))\n",
    "# Compute the confusion matrix\n",
    "cm = confusion_matrix(y_test, y_pred)\n"
   ]
  },
  {
   "cell_type": "code",
   "execution_count": 15,
   "id": "7a827791",
   "metadata": {
    "execution": {
     "iopub.execute_input": "2024-09-06T17:43:48.974960Z",
     "iopub.status.busy": "2024-09-06T17:43:48.974585Z",
     "iopub.status.idle": "2024-09-06T17:43:48.989366Z",
     "shell.execute_reply": "2024-09-06T17:43:48.988386Z"
    },
    "papermill": {
     "duration": 4.399325,
     "end_time": "2024-09-06T17:43:48.991413",
     "exception": false,
     "start_time": "2024-09-06T17:43:44.592088",
     "status": "completed"
    },
    "tags": []
   },
   "outputs": [
    {
     "name": "stdout",
     "output_type": "stream",
     "text": [
      "{'accuracy': 0.7690476190476191, 'precision': 0.7975031602476335, 'recall': 0.7690476190476191, 'f1_score': 0.7576472758030901}\n"
     ]
    }
   ],
   "source": [
    "from sklearn.metrics import accuracy_score, precision_score, recall_score, f1_score\n",
    "\n",
    "\n",
    "accuracy = accuracy_score(y_test, y_pred)\n",
    "precision = precision_score(y_test, y_pred, average='weighted')\n",
    "recall = recall_score(y_test, y_pred, average='weighted')\n",
    "f1 = f1_score(y_test, y_pred, average='weighted')\n",
    "\n",
    "print({\n",
    "    \"accuracy\": accuracy,\n",
    "    \"precision\": precision,\n",
    "    \"recall\": recall,\n",
    "    \"f1_score\": f1\n",
    "})"
   ]
  },
  {
   "cell_type": "code",
   "execution_count": 16,
   "id": "8570f384",
   "metadata": {
    "execution": {
     "iopub.execute_input": "2024-09-06T17:43:57.837877Z",
     "iopub.status.busy": "2024-09-06T17:43:57.837186Z",
     "iopub.status.idle": "2024-09-06T17:43:59.771372Z",
     "shell.execute_reply": "2024-09-06T17:43:59.770414Z"
    },
    "papermill": {
     "duration": 6.293301,
     "end_time": "2024-09-06T17:43:59.774427",
     "exception": false,
     "start_time": "2024-09-06T17:43:53.481126",
     "status": "completed"
    },
    "tags": []
   },
   "outputs": [
    {
     "data": {
      "text/plain": [
       "<Axes: >"
      ]
     },
     "execution_count": 16,
     "metadata": {},
     "output_type": "execute_result"
    },
    {
     "data": {
      "image/png": "[encoded data removed]",
      "text/plain": [
       "<Figure size 6000x3000 with 2 Axes>"
      ]
     },
     "metadata": {},
     "output_type": "display_data"
    }
   ],
   "source": [
    "import seaborn as sn\n",
    "df_cm = pd.DataFrame(cm, index = list(embedding_keys_2_labels.keys()),\n",
    "                  columns = list(embedding_keys_2_labels.keys()))\n",
    "plt.figure(figsize=(60,30))\n",
    "sn.heatmap(df_cm, annot=True, cmap='YlGnBu')"
   ]
  },
  {
   "cell_type": "code",
   "execution_count": null,
   "id": "e7142011",
   "metadata": {
    "papermill": {
     "duration": 4.350506,
     "end_time": "2024-09-06T17:44:08.463451",
     "exception": false,
     "start_time": "2024-09-06T17:44:04.112945",
     "status": "completed"
    },
    "tags": []
   },
   "outputs": [],
   "source": [
    "\n"
   ]
  }
 ],
 "metadata": {
  "kaggle": {
   "accelerator": "gpu",
   "dataSources": [
    {
     "datasetId": 78313,
     "sourceId": 182633,
     "sourceType": "datasetVersion"
    },
    {
     "datasetId": 277323,
     "sourceId": 658267,
     "sourceType": "datasetVersion"
    },
    {
     "datasetId": 2310343,
     "sourceId": 9186413,
     "sourceType": "datasetVersion"
    }
   ],
   "dockerImageVersionId": 30587,
   "isGpuEnabled": true,
   "isInternetEnabled": true,
   "language": "python",
   "sourceType": "notebook"
  },
  "kernelspec": {
   "display_name": "Python 3",
   "language": "python",
   "name": "python3"
  },
  "language_info": {
   "codemirror_mode": {
    "name": "ipython",
    "version": 3
   },
   "file_extension": ".py",
   "mimetype": "text/x-python",
   "name": "python",
   "nbconvert_exporter": "python",
   "pygments_lexer": "ipython3",
   "version": "3.10.12"
  },
  "papermill": {
   "default_parameters": {},
   "duration": 11612.488157,
   "end_time": "2024-09-06T17:44:14.763510",
   "environment_variables": {},
   "exception": null,
   "input_path": "__notebook__.ipynb",
   "output_path": "__notebook__.ipynb",
   "parameters": {},
   "start_time": "2024-09-06T14:30:42.275353",
   "version": "2.4.0"
  }
 },
 "nbformat": 4,
 "nbformat_minor": 5
}
